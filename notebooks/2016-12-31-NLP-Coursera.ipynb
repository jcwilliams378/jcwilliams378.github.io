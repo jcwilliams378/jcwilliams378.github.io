{
 "cells": [
  {
   "cell_type": "markdown",
   "metadata": {},
   "source": [
    "# Coursera Data Science Capstone\n",
    "\n",
    "## Intro\n",
    "This project is the Capstone module of the Data Science specialization offered through Coursera. The specialization is created by [Johns Hopkins Univeristy](https://ep.jhu.edu/programs-and-courses/programs/data-science) and collaborates with industry partners [Swiftkey](https://swiftkey.com/en) and [Yelp](https://www.yelp.com). The course is the terminal module in a series of data science classes using the R programming lanugage.\n",
    "\n",
    "## Final Project: NLP and text prediciton\n",
    "The final project consists of creating a [Natural Language Processing](https://en.wikipedia.org/wiki/Natural_language_processing) resulting in the development and deployment of an [application in Shiny](https://jcwilliams378.shinyapps.io/NLP_coursera_capstone/) and a complimentary [slide deck](https://rpubs.com/jcwilliams378/NLP_Coursera_Capstone) to predict the next word given a short leading phrase given a raw set of text corpora data from twitter, news, and blog feeds. The course allowed the student to select the data cleaning, sampling, alogrithm, and presentation methods.\n",
    "\n",
    "The key algorithm used in this project was the \"Stupid Backoff\" alogrithm developed by [Brants <i> et. al. </i>](http://www.aclweb.org/anthology/D07-1090.pdf) at Google in 2007.\n"
   ]
  }
 ],
 "metadata": {
  "anaconda-cloud": {},
  "kernelspec": {
   "display_name": "Python [conda root]",
   "language": "python",
   "name": "conda-root-py"
  },
  "language_info": {
   "codemirror_mode": {
    "name": "ipython",
    "version": 3
   },
   "file_extension": ".py",
   "mimetype": "text/x-python",
   "name": "python",
   "nbconvert_exporter": "python",
   "pygments_lexer": "ipython3",
   "version": "3.5.2"
  }
 },
 "nbformat": 4,
 "nbformat_minor": 1
}
